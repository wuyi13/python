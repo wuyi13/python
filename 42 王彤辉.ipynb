{
 "cells": [
  {
   "cell_type": "code",
   "execution_count": 13,
   "metadata": {},
   "outputs": [
    {
     "name": "stdout",
     "output_type": "stream",
     "text": [
      "请输入你的身高(m)：1.66\n",
      "请输入你的体重(kg):72\n",
      "您的bmi是26.1286108288576\n"
     ]
    }
   ],
   "source": [
    "a=float(input(\"请输入你的身高(m)：\"))\n",
    "b=float(input(\"请输入你的体重(kg):\"))\n",
    "c=b/(a*a)\n",
    "print(f\"您的bmi是{c}\")"
   ]
  },
  {
   "cell_type": "code",
   "execution_count": null,
   "metadata": {},
   "outputs": [],
   "source": []
  }
 ],
 "metadata": {
  "kernelspec": {
   "display_name": "Python 3",
   "language": "python",
   "name": "python3"
  },
  "language_info": {
   "codemirror_mode": {
    "name": "ipython",
    "version": 3
   },
   "file_extension": ".py",
   "mimetype": "text/x-python",
   "name": "python",
   "nbconvert_exporter": "python",
   "pygments_lexer": "ipython3",
   "version": "3.8.5"
  }
 },
 "nbformat": 4,
 "nbformat_minor": 4
}
