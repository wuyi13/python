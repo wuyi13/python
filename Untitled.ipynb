{
 "cells": [
  {
   "cell_type": "markdown",
   "metadata": {},
   "source": [
    "## 33-38页例题"
   ]
  },
  {
   "cell_type": "code",
   "execution_count": 1,
   "metadata": {},
   "outputs": [
    {
     "name": "stdout",
     "output_type": "stream",
     "text": [
      "Jim said,\"let 'go.\"\n"
     ]
    }
   ],
   "source": [
    "x='hello china.'\n",
    "x=\"python is a great language.\"\n",
    "x='''Jim said,\"let 'go.\"'''\n",
    "print(x)"
   ]
  },
  {
   "cell_type": "code",
   "execution_count": 2,
   "metadata": {},
   "outputs": [
    {
     "name": "stdout",
     "output_type": "stream",
     "text": [
      "var1[0]: H\n",
      "var2[1:5] unoo\n"
     ]
    }
   ],
   "source": [
    "var1='Hellod china!'\n",
    "var2=\"runoob\"\n",
    "print(\"var1[0]:\",var1[0])\n",
    "print(\"var2[1:5]\",var2[1:5])"
   ]
  }
 ],
 "metadata": {
  "kernelspec": {
   "display_name": "Python 3",
   "language": "python",
   "name": "python3"
  },
  "language_info": {
   "codemirror_mode": {
    "name": "ipython",
    "version": 3
   },
   "file_extension": ".py",
   "mimetype": "text/x-python",
   "name": "python",
   "nbconvert_exporter": "python",
   "pygments_lexer": "ipython3",
   "version": "3.8.5"
  }
 },
 "nbformat": 4,
 "nbformat_minor": 4
}
